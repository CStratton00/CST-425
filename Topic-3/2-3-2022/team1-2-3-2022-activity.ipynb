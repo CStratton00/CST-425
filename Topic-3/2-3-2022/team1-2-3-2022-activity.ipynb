{
 "cells": [
  {
   "cell_type": "code",
   "execution_count": 13,
   "metadata": {
    "collapsed": true,
    "pycharm": {
     "name": "#%%\n"
    }
   },
   "outputs": [],
   "source": [
    "import pandas as pd\n",
    "import numpy as np\n",
    "import matplotlib.pyplot as plt\n",
    "\n",
    "bankdata = pd.read_csv(\"bill_authentication.csv\")"
   ]
  },
  {
   "cell_type": "code",
   "execution_count": 14,
   "outputs": [
    {
     "name": "stdout",
     "output_type": "stream",
     "text": [
      "Shape: (1372, 5)\n",
      "   Variance  Skewness  Curtosis  Entropy  Class\n",
      "0   3.62160    8.6661   -2.8073 -0.44699      0\n",
      "1   4.54590    8.1674   -2.4586 -1.46210      0\n",
      "2   3.86600   -2.6383    1.9242  0.10645      0\n",
      "3   3.45660    9.5228   -4.0112 -3.59440      0\n",
      "4   0.32924   -4.4552    4.5718 -0.98880      0\n"
     ]
    }
   ],
   "source": [
    "# Exploratory data analysis (minimal)\n",
    "print(f\"Shape: {bankdata.shape}\") # Refers to the dimensions of the data\n",
    "print(bankdata.head())"
   ],
   "metadata": {
    "collapsed": false,
    "pycharm": {
     "name": "#%%\n"
    }
   }
  },
  {
   "cell_type": "code",
   "execution_count": 15,
   "outputs": [
    {
     "name": "stdout",
     "output_type": "stream",
     "text": [
      "\n",
      "MEANS: \n",
      "\n",
      "Variance    0.433735\n",
      "Skewness    1.922353\n",
      "Curtosis    1.397627\n",
      "Entropy    -1.191657\n",
      "Class       0.444606\n",
      "dtype: float64\n",
      "\n",
      "STANDARD DEVIATIONS: \n",
      "\n",
      "Variance    2.842763\n",
      "Skewness    5.869047\n",
      "Curtosis    4.310030\n",
      "Entropy     2.101013\n",
      "Class       0.497103\n",
      "dtype: float64\n",
      "\n",
      "MEDIANS: \n",
      "\n",
      "Variance    0.49618\n",
      "Skewness    2.31965\n",
      "Curtosis    0.61663\n",
      "Entropy    -0.58665\n",
      "Class       0.00000\n",
      "dtype: float64\n",
      "\n",
      "DESCRIPTIVE STATISTICS: \n",
      "\n",
      "          Variance     Skewness     Curtosis      Entropy        Class\n",
      "count  1372.000000  1372.000000  1372.000000  1372.000000  1372.000000\n",
      "mean      0.433735     1.922353     1.397627    -1.191657     0.444606\n",
      "std       2.842763     5.869047     4.310030     2.101013     0.497103\n",
      "min      -7.042100   -13.773100    -5.286100    -8.548200     0.000000\n",
      "25%      -1.773000    -1.708200    -1.574975    -2.413450     0.000000\n",
      "50%       0.496180     2.319650     0.616630    -0.586650     0.000000\n",
      "75%       2.821475     6.814625     3.179250     0.394810     1.000000\n",
      "max       6.824800    12.951600    17.927400     2.449500     1.000000\n"
     ]
    }
   ],
   "source": [
    "print(\"\\nMEANS: \\n\")\n",
    "print(bankdata.mean())\n",
    "\n",
    "print(\"\\nSTANDARD DEVIATIONS: \\n\")\n",
    "print(bankdata.std())\n",
    "\n",
    "print(\"\\nMEDIANS: \\n\")\n",
    "print(bankdata.median())\n",
    "\n",
    "print(\"\\nDESCRIPTIVE STATISTICS: \\n\")\n",
    "print(bankdata.describe())"
   ],
   "metadata": {
    "collapsed": false,
    "pycharm": {
     "name": "#%%\n"
    }
   }
  },
  {
   "cell_type": "code",
   "execution_count": 27,
   "outputs": [
    {
     "name": "stdout",
     "output_type": "stream",
     "text": [
      "[0 0 1 1 1 1 0 0 0 0 1 0 1 0 0 1 0 1 1 1 0 0 0 1 1 1 1 0 1 1 0 1 1 1 1 0 0\n",
      " 0 0 0 0 1 0 1 1 0 0 1 0 0 0 0 0 0 0 0 0 0 0 1 0 0 0 0 0 0 0 0 1 1 1 1 1 1\n",
      " 1 1 0 0 1 0 1 1 0 0 0 0 0 0 0 1 0 0 0 0 0 1 0 0 0 1 1 0 1 1 1 1 0 0 0 1 0\n",
      " 0 1 0 1 0 0 0 1 0 0 0 0 0 1 0 1 1 0 1 1 0 0 1 0 1 0 1 1 0 0 0 0 1 0 0 1 0\n",
      " 0 1 0 0 1 1 1 0 1 0 1 1 1 1 0 1 0 0 1 0 0 0 1 0 1 1 0 1 1 1 0 0 0 1 0 0 0\n",
      " 1 1 0 1 0 0 1 0 0 0 0 0 1 0 1 1 1 0 0 1 0 1 0 0 0 0 0 0 1 1 0 1 1 1 0 1 1\n",
      " 0 0 1 0 0 0 0 1 1 0 1 1 1 0 0 0 1 1 0 1 0 0 0 1 1 0 0 1 0 1 1 0 0 1 1 0 0\n",
      " 1 1 1 1 1 0 0 1 0 0 1 1 0 0 1 0]\n",
      "\n",
      "CONFUSION MATRIX\n",
      "[[155   5]\n",
      " [  1 114]]\n",
      "\n",
      "Bank Note Prediction Results: \n",
      "              precision    recall  f1-score   support\n",
      "\n",
      "           0       0.99      0.97      0.98       160\n",
      "           1       0.96      0.99      0.97       115\n",
      "\n",
      "    accuracy                           0.98       275\n",
      "   macro avg       0.98      0.98      0.98       275\n",
      "weighted avg       0.98      0.98      0.98       275\n",
      "\n",
      "\n",
      "There are 1 classification errors\n",
      "\n"
     ]
    }
   ],
   "source": [
    "# Data Preprocessing\n",
    "# 1. Divide the data into attributes and labels\n",
    "# 2. Divide the data into training and testing sets\n",
    "\n",
    "# Attributes and Labels\n",
    "# 1. Decide X and Y variables\n",
    "x = bankdata.drop(\"Class\", axis=1) # All columns except class\n",
    "y = bankdata['Class'] # Only class column\n",
    "\n",
    "# Split training and testing sets\n",
    "from sklearn.model_selection import train_test_split\n",
    "RAND_SEED = 1234 # Set the seed for generating training and testing sets\n",
    "x_train, x_test, y_train, y_test = train_test_split(x,y,test_size=0.20,random_state=RAND_SEED)\n",
    "\n",
    "# Train the model\n",
    "from sklearn.svm import SVC\n",
    "svclassifier = SVC(kernel=\"linear\") # Support Vector Classifier (SVC)\n",
    "svclassifier.fit(x_train, y_train) # Train model using SVC\n",
    "\n",
    "# Make predictions\n",
    "y_pred = svclassifier.predict(x_test) # Create predictions on y-axis\n",
    "print(y_pred)\n",
    "\n",
    "# Evaluate the model\n",
    "print(\"\\nCONFUSION MATRIX\") # Create confusion matrix\n",
    "from sklearn.metrics import classification_report, confusion_matrix\n",
    "cm = confusion_matrix(y_test, y_pred) # Store results in a confusion matrix\n",
    "print(cm)\n",
    "print(\"\\nBank Note Prediction Results: \")\n",
    "print(classification_report(y_test,y_pred))\n",
    "\n",
    "print(\"\\nThere are\", cm[1,0], \"classification errors\\n\")"
   ],
   "metadata": {
    "collapsed": false,
    "pycharm": {
     "name": "#%%\n"
    }
   }
  }
 ],
 "metadata": {
  "kernelspec": {
   "display_name": "Python 3",
   "language": "python",
   "name": "python3"
  },
  "language_info": {
   "codemirror_mode": {
    "name": "ipython",
    "version": 2
   },
   "file_extension": ".py",
   "mimetype": "text/x-python",
   "name": "python",
   "nbconvert_exporter": "python",
   "pygments_lexer": "ipython2",
   "version": "2.7.6"
  }
 },
 "nbformat": 4,
 "nbformat_minor": 0
}