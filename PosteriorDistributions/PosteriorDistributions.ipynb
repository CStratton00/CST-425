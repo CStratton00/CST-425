{
 "cells": [
  {
   "cell_type": "markdown",
   "source": [
    "# Posterior Distributions\n",
    "Andrew Esch, Evan Lee, and Collin Stratton\n",
    "\n",
    "CST-425\n",
    "\n",
    "Dr. Isac Artzi\n",
    "\n",
    "2 April, 2022"
   ],
   "metadata": {
    "collapsed": false
   }
  },
  {
   "cell_type": "markdown",
   "source": [
    "# Introduction\n",
    "The purpose of this assignment is to explore Markov Chain Monte Carlo (MCMC) by predicting the likelihood of people visiting a given attraction. This project will analyze and visualize the posterior distributions of the locations visited by tourists."
   ],
   "metadata": {
    "collapsed": false
   }
  },
  {
   "cell_type": "markdown",
   "source": [
    "# Setup"
   ],
   "metadata": {
    "collapsed": false
   }
  },
  {
   "cell_type": "code",
   "execution_count": null,
   "outputs": [],
   "source": [
    "# import libraries\n",
    "import numpy as np\n",
    "import pandas as pd\n",
    "import matplotlib.pyplot as plt\n",
    "import pymc3 as pm\n",
    "\n",
    "from PosteriorDistributions import *"
   ],
   "metadata": {
    "collapsed": false,
    "pycharm": {
     "name": "#%%\n",
     "is_executing": true
    }
   }
  },
  {
   "cell_type": "code",
   "execution_count": null,
   "outputs": [],
   "source": [
    "# read in data\n",
    "df = pd.read_csv(\"./syntheticdata.csv\", header=None)\n",
    "# row and column headers list\n",
    "headers = [\"Museum\", \"Concert\", \"Sports Event\", \"Restaurant\", \"Hike\"]\n",
    "\n",
    "print(df)"
   ],
   "metadata": {
    "collapsed": false,
    "pycharm": {
     "name": "#%%\n",
     "is_executing": true
    }
   }
  },
  {
   "cell_type": "code",
   "execution_count": null,
   "outputs": [],
   "source": [
    "# Convert into a probabilistic matrix, and then convert the probabilistic matrix into a transition matrix\n",
    "transitionMatrix = df.div(df.sum(axis=1), axis=0)\n",
    "transitionMatrix = transitionMatrix.to_numpy()\n",
    "\n",
    "print(transitionMatrixNP)"
   ],
   "metadata": {
    "collapsed": false,
    "pycharm": {
     "name": "#%%\n",
     "is_executing": true
    }
   }
  },
  {
   "cell_type": "markdown",
   "source": [
    "# Markov Chain\n",
    "## Generate Steady State Distribution Graphs from the Transition Matrix using Markov Chains"
   ],
   "metadata": {
    "collapsed": false
   }
  },
  {
   "cell_type": "code",
   "execution_count": null,
   "outputs": [],
   "source": [
    "# Generate graphs from transition matrix to illustrate the Markov Chain\n",
    "for i in range(transitionMatrix.shape[0]):\n",
    "    for j in range(transitionMatrix.shape[1]):\n",
    "        markovPlot(transitionMatrix, i, j, 11)"
   ],
   "metadata": {
    "collapsed": false,
    "pycharm": {
     "name": "#%%\n",
     "is_executing": true
    }
   }
  },
  {
   "cell_type": "markdown",
   "source": [
    "## Finding Probabilities\n",
    "### Find the likelihood that a tourist would attend a concert, then go on a hike, then eat at a restaurant"
   ],
   "metadata": {
    "collapsed": false
   }
  },
  {
   "cell_type": "code",
   "execution_count": null,
   "outputs": [],
   "source": [
    "# multiply the transition probability of concert to hike by hike to restaurant\n",
    "concertHikeRestaurant = transitionMatrix[1][4] * transitionMatrix[4][3]\n",
    "print(\"Percent odds of Concert to Hike to Restaurant = \", concertHikeRestaurant * 100)"
   ],
   "metadata": {
    "collapsed": false,
    "pycharm": {
     "name": "#%%\n"
    }
   }
  },
  {
   "cell_type": "markdown",
   "source": [
    "### Find the likelihood of visiting any of the locations as the fifth step"
   ],
   "metadata": {
    "collapsed": false
   }
  },
  {
   "cell_type": "code",
   "execution_count": null,
   "outputs": [],
   "source": [
    "# take the transition matrix to the fifth power\n",
    "trans5 = pow(transitionMatrix, 5)\n",
    "\n",
    "# sum the columns of the fifth power matrix\n",
    "sum_arr = trans5.sum(axis=0)\n",
    "\n",
    "# print the likelihood of visiting any of the locations as the fifth step\n",
    "print(\"\\nPercent odds of visiting the Museum 5th = \", sum_arr[0] * 100)\n",
    "print(\"Percent odds of visiting the Concert 5th = \", sum_arr[1] * 100)\n",
    "print(\"Percent odds of visiting the Sports Event 5th = \", sum_arr[2] * 100)\n",
    "print(\"Percent odds of visiting the Restaurant 5th = \", sum_arr[3] * 100)\n",
    "print(\"Percent odds of visiting the Hike 5th = \", sum_arr[4] * 100)"
   ],
   "metadata": {
    "collapsed": false,
    "pycharm": {
     "name": "#%%\n"
    }
   }
  }
 ],
 "metadata": {
  "kernelspec": {
   "display_name": "Python 3",
   "language": "python",
   "name": "python3"
  },
  "language_info": {
   "codemirror_mode": {
    "name": "ipython",
    "version": 2
   },
   "file_extension": ".py",
   "mimetype": "text/x-python",
   "name": "python",
   "nbconvert_exporter": "python",
   "pygments_lexer": "ipython2",
   "version": "2.7.6"
  }
 },
 "nbformat": 4,
 "nbformat_minor": 0
}