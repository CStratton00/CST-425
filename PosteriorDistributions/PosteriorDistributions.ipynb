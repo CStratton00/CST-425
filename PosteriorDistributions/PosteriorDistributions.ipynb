{
 "cells": [
  {
   "cell_type": "markdown",
   "source": [
    "# Posterior Distributions\n",
    "Andrew Esch, Evan Lee, and Collin Stratton\n",
    "\n",
    "CST-425\n",
    "\n",
    "Dr. Isac Artzi\n",
    "\n",
    "2 April, 2022"
   ],
   "metadata": {
    "collapsed": false
   }
  },
  {
   "cell_type": "markdown",
   "source": [
    "# Introduction\n",
    "The purpose of this assignment is to explore Markov Chain Monte Carlo (MCMC) by predicting the likelihood of people visiting a given attraction. This project will analyze and visualize the posterior distributions of the locations visited by tourists."
   ],
   "metadata": {
    "collapsed": false
   }
  },
  {
   "cell_type": "markdown",
   "source": [
    "# Setup"
   ],
   "metadata": {
    "collapsed": false
   }
  },
  {
   "cell_type": "code",
   "execution_count": 3,
   "outputs": [
    {
     "name": "stdout",
     "output_type": "stream",
     "text": [
      "[[0.06666667 0.2        0.33333333 0.2        0.2       ]\n",
      " [0.33333333 0.04761905 0.19047619 0.28571429 0.14285714]\n",
      " [0.38095238 0.0952381  0.0952381  0.23809524 0.19047619]\n",
      " [0.27777778 0.22222222 0.27777778 0.16666667 0.05555556]\n",
      " [0.15384615 0.30769231 0.07692308 0.38461538 0.07692308]]\n"
     ]
    },
    {
     "ename": "IndexError",
     "evalue": "only integers, slices (`:`), ellipsis (`...`), numpy.newaxis (`None`) and integer or boolean arrays are valid indices",
     "output_type": "error",
     "traceback": [
      "\u001B[1;31m---------------------------------------------------------------------------\u001B[0m",
      "\u001B[1;31mIndexError\u001B[0m                                Traceback (most recent call last)",
      "Input \u001B[1;32mIn [3]\u001B[0m, in \u001B[0;36m<cell line: 7>\u001B[1;34m()\u001B[0m\n\u001B[0;32m      4\u001B[0m \u001B[38;5;28;01mimport\u001B[39;00m \u001B[38;5;21;01mmatplotlib\u001B[39;00m\u001B[38;5;21;01m.\u001B[39;00m\u001B[38;5;21;01mpyplot\u001B[39;00m \u001B[38;5;28;01mas\u001B[39;00m \u001B[38;5;21;01mplt\u001B[39;00m\n\u001B[0;32m      5\u001B[0m \u001B[38;5;28;01mimport\u001B[39;00m \u001B[38;5;21;01mpymc3\u001B[39;00m \u001B[38;5;28;01mas\u001B[39;00m \u001B[38;5;21;01mpm\u001B[39;00m\n\u001B[1;32m----> 7\u001B[0m \u001B[38;5;28;01mfrom\u001B[39;00m \u001B[38;5;21;01mPosteriorDistributions\u001B[39;00m \u001B[38;5;28;01mimport\u001B[39;00m \u001B[38;5;241m*\u001B[39m\n",
      "File \u001B[1;32m~\\OneDrive\\Documents\\github\\CST-425\\PosteriorDistributions\\PosteriorDistributions.py:47\u001B[0m, in \u001B[0;36m<module>\u001B[1;34m\u001B[0m\n\u001B[0;32m     43\u001B[0m     plt\u001B[38;5;241m.\u001B[39mshow()\n\u001B[0;32m     46\u001B[0m \u001B[38;5;28;01mfor\u001B[39;00m i, j \u001B[38;5;129;01min\u001B[39;00m transitionMatrix\u001B[38;5;241m.\u001B[39miterrows():\n\u001B[1;32m---> 47\u001B[0m     \u001B[43mmarkovPlot\u001B[49m\u001B[43m(\u001B[49m\u001B[43mtransitionMatrixNP\u001B[49m\u001B[43m,\u001B[49m\u001B[43m \u001B[49m\u001B[43mi\u001B[49m\u001B[43m,\u001B[49m\u001B[43m \u001B[49m\u001B[43mj\u001B[49m\u001B[43m,\u001B[49m\u001B[43m \u001B[49m\u001B[38;5;241;43m100\u001B[39;49m\u001B[43m)\u001B[49m\n\u001B[0;32m     49\u001B[0m \u001B[38;5;66;03m# Generate graphs from transition matrix to illustrate the Markov Chain\u001B[39;00m\n\u001B[0;32m     50\u001B[0m \u001B[38;5;28;01mfor\u001B[39;00m i \u001B[38;5;129;01min\u001B[39;00m \u001B[38;5;28mrange\u001B[39m(transitionMatrixNP\u001B[38;5;241m.\u001B[39mshape[\u001B[38;5;241m0\u001B[39m]):\n",
      "File \u001B[1;32m~\\OneDrive\\Documents\\github\\CST-425\\PosteriorDistributions\\PosteriorDistributions.py:29\u001B[0m, in \u001B[0;36mmarkovPlot\u001B[1;34m(matrix, x, y, n)\u001B[0m\n\u001B[0;32m     27\u001B[0m \u001B[38;5;28;01mfor\u001B[39;00m k \u001B[38;5;129;01min\u001B[39;00m \u001B[38;5;28mrange\u001B[39m(\u001B[38;5;241m1\u001B[39m, n):\n\u001B[0;32m     28\u001B[0m     mt \u001B[38;5;241m=\u001B[39m np\u001B[38;5;241m.\u001B[39mdot(mt, matrix)\n\u001B[1;32m---> 29\u001B[0m     yval\u001B[38;5;241m.\u001B[39mappend(\u001B[43mmt\u001B[49m\u001B[43m[\u001B[49m\u001B[43mx\u001B[49m\u001B[43m,\u001B[49m\u001B[43m \u001B[49m\u001B[43my\u001B[49m\u001B[43m]\u001B[49m \u001B[38;5;241m*\u001B[39m \u001B[38;5;241m100\u001B[39m)\n\u001B[0;32m     32\u001B[0m \u001B[38;5;28;01mfor\u001B[39;00m i \u001B[38;5;129;01min\u001B[39;00m \u001B[38;5;28mrange\u001B[39m(\u001B[38;5;28mlen\u001B[39m(yval)\u001B[38;5;241m-\u001B[39m\u001B[38;5;241m1\u001B[39m):\n\u001B[0;32m     33\u001B[0m     change \u001B[38;5;241m=\u001B[39m yval[i] \u001B[38;5;241m-\u001B[39m yval[i \u001B[38;5;241m+\u001B[39m \u001B[38;5;241m1\u001B[39m]\n",
      "\u001B[1;31mIndexError\u001B[0m: only integers, slices (`:`), ellipsis (`...`), numpy.newaxis (`None`) and integer or boolean arrays are valid indices"
     ]
    }
   ],
   "source": [
    "# import libraries\n",
    "import numpy as np\n",
    "import pandas as pd\n",
    "import matplotlib.pyplot as plt\n",
    "import pymc3 as pm\n",
    "\n",
    "from PosteriorDistributions import *"
   ],
   "metadata": {
    "collapsed": false,
    "pycharm": {
     "name": "#%%\n"
    }
   }
  },
  {
   "cell_type": "code",
   "execution_count": null,
   "outputs": [],
   "source": [
    "# read in data\n",
    "df = pd.read_csv(\"./syntheticdata.csv\", header=None)\n",
    "# row and column headers list\n",
    "headers = [\"Museum\", \"Concert\", \"Sports Event\", \"Restaurant\", \"Hike\"]\n",
    "\n",
    "print(df)"
   ],
   "metadata": {
    "collapsed": false,
    "pycharm": {
     "name": "#%%\n"
    }
   }
  },
  {
   "cell_type": "code",
   "execution_count": null,
   "outputs": [],
   "source": [
    "# Convert into a probabilistic matrix, and then convert the probabilistic matrix into a transition matrix\n",
    "transitionMatrix = df.div(df.sum(axis=1), axis=0)\n",
    "transitionMatrix = transitionMatrix.to_numpy()\n",
    "\n",
    "print(transitionMatrixNP)"
   ],
   "metadata": {
    "collapsed": false,
    "pycharm": {
     "name": "#%%\n"
    }
   }
  },
  {
   "cell_type": "markdown",
   "source": [
    "# Markov Chain\n",
    "## Generate Steady State Distribution Graphs from the Transition Matrix using Markov Chains"
   ],
   "metadata": {
    "collapsed": false
   }
  },
  {
   "cell_type": "code",
   "execution_count": null,
   "outputs": [],
   "source": [
    "# Generate graphs from transition matrix to illustrate the Markov Chain\n",
    "for i in range(transitionMatrix.shape[0]):\n",
    "    for j in range(transitionMatrix.shape[1]):\n",
    "        markovPlot(transitionMatrix, i, j, 11)"
   ],
   "metadata": {
    "collapsed": false,
    "pycharm": {
     "name": "#%%\n"
    }
   }
  },
  {
   "cell_type": "markdown",
   "source": [
    "## Finding Probabilities\n",
    "### Find the likelihood that a tourist would attend a concert, then go on a hike, then eat at a restaurant"
   ],
   "metadata": {
    "collapsed": false
   }
  },
  {
   "cell_type": "code",
   "execution_count": null,
   "outputs": [],
   "source": [
    "# multiply the transition probability of concert to hike by hike to restaurant\n",
    "concertHikeRestaurant = transitionMatrix[1][4] * transitionMatrix[4][3]\n",
    "print(\"Percent odds of Concert to Hike to Restaurant = \", concertHikeRestaurant * 100)"
   ],
   "metadata": {
    "collapsed": false,
    "pycharm": {
     "name": "#%%\n"
    }
   }
  },
  {
   "cell_type": "markdown",
   "source": [
    "### Find the likelihood of visiting any of the locations as the fifth step"
   ],
   "metadata": {
    "collapsed": false
   }
  },
  {
   "cell_type": "code",
   "execution_count": null,
   "outputs": [],
   "source": [
    "# find the probabilities of the transition matrix on the 5th step\n",
    "transDot = transitionMatrix\n",
    "for i in range(4):  # Four transitions, so run 4 times\n",
    "    transDot = np.dot(transDot, transitionMatrix)\n",
    "\n",
    "# starting probability vector\n",
    "spv = np.array([.2, .2, .2, .2, .2])\n",
    "\n",
    "# sum the columns of the fifth step\n",
    "sum_trans = transDot.sum(axis=0)\n",
    "\n",
    "# multiply the starting probability vector by the sum of the columns\n",
    "spv_tran = sum_trans * spv\n",
    "\n",
    "# print the likelihood of visiting any of the locations as the fifth step\n",
    "print(\"\\nPercent odds of visiting the Museum 5th = \", spv_tran[0] * 100)\n",
    "print(\"Percent odds of visiting the Concert 5th = \", spv_tran[1] * 100)\n",
    "print(\"Percent odds of visiting the Sports Event 5th = \", spv_tran[2] * 100)\n",
    "print(\"Percent odds of visiting the Restaurant 5th = \", spv_tran[3] * 100)\n",
    "print(\"Percent odds of visiting the Hike 5th = \", spv_tran[4] * 100)"
   ],
   "metadata": {
    "collapsed": false,
    "pycharm": {
     "name": "#%%\n"
    }
   }
  },
  {
   "cell_type": "code",
   "execution_count": null,
   "outputs": [],
   "source": [
    "plt.pie(spv_tran, labels=headers, autopct='%1.1f%%')\n",
    "plt.show()"
   ],
   "metadata": {
    "collapsed": false,
    "pycharm": {
     "name": "#%%\n"
    }
   }
  }
 ],
 "metadata": {
  "kernelspec": {
   "display_name": "Python 3",
   "language": "python",
   "name": "python3"
  },
  "language_info": {
   "codemirror_mode": {
    "name": "ipython",
    "version": 2
   },
   "file_extension": ".py",
   "mimetype": "text/x-python",
   "name": "python",
   "nbconvert_exporter": "python",
   "pygments_lexer": "ipython2",
   "version": "2.7.6"
  }
 },
 "nbformat": 4,
 "nbformat_minor": 0
}