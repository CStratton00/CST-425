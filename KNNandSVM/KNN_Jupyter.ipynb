{
 "cells": [
  {
   "cell_type": "code",
   "execution_count": 3,
   "metadata": {
    "collapsed": true
   },
   "outputs": [],
   "source": [
    "import pandas as pd\n",
    "import matplotlib.pyplot as plt\n",
    "from sklearn.preprocessing import LabelEncoder\n",
    "from sklearn.model_selection import train_test_split, KFold\n",
    "from sklearn.neighbors import KNeighborsClassifier\n",
    "from sklearn import preprocessing\n",
    "from sklearn.metrics import classification_report,confusion_matrix,accuracy_score,plot_confusion_matrix\n",
    "# from mlxtend.plotting import plot_decision_regions"
   ]
  },
  {
   "cell_type": "code",
   "execution_count": 4,
   "outputs": [
    {
     "name": "stdout",
     "output_type": "stream",
     "text": [
      "    age          workclass  fnlwgt      education  education-num  \\\n",
      "0    39          State-gov   77516      Bachelors             13   \n",
      "1    50   Self-emp-not-inc   83311      Bachelors             13   \n",
      "2    38            Private  215646        HS-grad              9   \n",
      "3    53            Private  234721           11th              7   \n",
      "4    28            Private  338409      Bachelors             13   \n",
      "5    37            Private  284582        Masters             14   \n",
      "6    49            Private  160187            9th              5   \n",
      "7    52   Self-emp-not-inc  209642        HS-grad              9   \n",
      "8    31            Private   45781        Masters             14   \n",
      "9    42            Private  159449      Bachelors             13   \n",
      "10   37            Private  280464   Some-college             10   \n",
      "11   30          State-gov  141297      Bachelors             13   \n",
      "12   23            Private  122272      Bachelors             13   \n",
      "13   32            Private  205019     Assoc-acdm             12   \n",
      "14   40            Private  121772      Assoc-voc             11   \n",
      "15   34            Private  245487        7th-8th              4   \n",
      "16   25   Self-emp-not-inc  176756        HS-grad              9   \n",
      "17   32            Private  186824        HS-grad              9   \n",
      "18   38            Private   28887           11th              7   \n",
      "19   43   Self-emp-not-inc  292175        Masters             14   \n",
      "\n",
      "            marital-status          occupation    relationship  \\\n",
      "0            Never-married        Adm-clerical   Not-in-family   \n",
      "1       Married-civ-spouse     Exec-managerial         Husband   \n",
      "2                 Divorced   Handlers-cleaners   Not-in-family   \n",
      "3       Married-civ-spouse   Handlers-cleaners         Husband   \n",
      "4       Married-civ-spouse      Prof-specialty            Wife   \n",
      "5       Married-civ-spouse     Exec-managerial            Wife   \n",
      "6    Married-spouse-absent       Other-service   Not-in-family   \n",
      "7       Married-civ-spouse     Exec-managerial         Husband   \n",
      "8            Never-married      Prof-specialty   Not-in-family   \n",
      "9       Married-civ-spouse     Exec-managerial         Husband   \n",
      "10      Married-civ-spouse     Exec-managerial         Husband   \n",
      "11      Married-civ-spouse      Prof-specialty         Husband   \n",
      "12           Never-married        Adm-clerical       Own-child   \n",
      "13           Never-married               Sales   Not-in-family   \n",
      "14      Married-civ-spouse        Craft-repair         Husband   \n",
      "15      Married-civ-spouse    Transport-moving         Husband   \n",
      "16           Never-married     Farming-fishing       Own-child   \n",
      "17           Never-married   Machine-op-inspct       Unmarried   \n",
      "18      Married-civ-spouse               Sales         Husband   \n",
      "19                Divorced     Exec-managerial       Unmarried   \n",
      "\n",
      "                   race      sex  capital-gain  capital-loss  hours-per-week  \\\n",
      "0                 White     Male          2174             0              40   \n",
      "1                 White     Male             0             0              13   \n",
      "2                 White     Male             0             0              40   \n",
      "3                 Black     Male             0             0              40   \n",
      "4                 Black   Female             0             0              40   \n",
      "5                 White   Female             0             0              40   \n",
      "6                 Black   Female             0             0              16   \n",
      "7                 White     Male             0             0              45   \n",
      "8                 White   Female         14084             0              50   \n",
      "9                 White     Male          5178             0              40   \n",
      "10                Black     Male             0             0              80   \n",
      "11   Asian-Pac-Islander     Male             0             0              40   \n",
      "12                White   Female             0             0              30   \n",
      "13                Black     Male             0             0              50   \n",
      "14   Asian-Pac-Islander     Male             0             0              40   \n",
      "15   Amer-Indian-Eskimo     Male             0             0              45   \n",
      "16                White     Male             0             0              35   \n",
      "17                White     Male             0             0              40   \n",
      "18                White     Male             0             0              50   \n",
      "19                White   Female             0             0              45   \n",
      "\n",
      "    native-country 50k-Prediction  \n",
      "0    United-States          <=50K  \n",
      "1    United-States          <=50K  \n",
      "2    United-States          <=50K  \n",
      "3    United-States          <=50K  \n",
      "4             Cuba          <=50K  \n",
      "5    United-States          <=50K  \n",
      "6          Jamaica          <=50K  \n",
      "7    United-States           >50K  \n",
      "8    United-States           >50K  \n",
      "9    United-States           >50K  \n",
      "10   United-States           >50K  \n",
      "11           India           >50K  \n",
      "12   United-States          <=50K  \n",
      "13   United-States          <=50K  \n",
      "14               ?           >50K  \n",
      "15          Mexico          <=50K  \n",
      "16   United-States          <=50K  \n",
      "17   United-States          <=50K  \n",
      "18   United-States          <=50K  \n",
      "19   United-States           >50K  \n"
     ]
    }
   ],
   "source": [
    "# Import the data\n",
    "\n",
    "# The column names are not included in the .data file so we must create an array of the column names and add them\n",
    "colnames = ['age', 'workclass', 'fnlwgt', 'education', 'education-num', 'marital-status', 'occupation', 'relationship', 'race', 'sex', 'capital-gain', 'capital-loss', 'hours-per-week', 'native-country', '50k-Prediction']\n",
    "\n",
    "# Create a panda dataframe from adult.data and add column names\n",
    "df = pd.read_csv(\"adult.data\", names=colnames)\n",
    "\n",
    "# Print out the top 20 instances from the dataframe\n",
    "print(df.head(20))"
   ],
   "metadata": {
    "collapsed": false,
    "pycharm": {
     "name": "#%%\n"
    }
   }
  },
  {
   "cell_type": "code",
   "execution_count": 5,
   "outputs": [
    {
     "name": "stdout",
     "output_type": "stream",
     "text": [
      "    age  workclass  fnlwgt  education  education-num  marital-status  \\\n",
      "0    39          7   77516          9             13               4   \n",
      "1    50          6   83311          9             13               2   \n",
      "2    38          4  215646         11              9               0   \n",
      "3    53          4  234721          1              7               2   \n",
      "4    28          4  338409          9             13               2   \n",
      "5    37          4  284582         12             14               2   \n",
      "6    49          4  160187          6              5               3   \n",
      "7    52          6  209642         11              9               2   \n",
      "8    31          4   45781         12             14               4   \n",
      "9    42          4  159449          9             13               2   \n",
      "10   37          4  280464         15             10               2   \n",
      "11   30          7  141297          9             13               2   \n",
      "12   23          4  122272          9             13               4   \n",
      "13   32          4  205019          7             12               4   \n",
      "14   40          4  121772          8             11               2   \n",
      "15   34          4  245487          5              4               2   \n",
      "16   25          6  176756         11              9               4   \n",
      "17   32          4  186824         11              9               4   \n",
      "18   38          4   28887          1              7               2   \n",
      "19   43          6  292175         12             14               0   \n",
      "\n",
      "    occupation  relationship  race  sex  capital-gain  capital-loss  \\\n",
      "0            1             1     4    1          2174             0   \n",
      "1            4             0     4    1             0             0   \n",
      "2            6             1     4    1             0             0   \n",
      "3            6             0     2    1             0             0   \n",
      "4           10             5     2    0             0             0   \n",
      "5            4             5     4    0             0             0   \n",
      "6            8             1     2    0             0             0   \n",
      "7            4             0     4    1             0             0   \n",
      "8           10             1     4    0         14084             0   \n",
      "9            4             0     4    1          5178             0   \n",
      "10           4             0     2    1             0             0   \n",
      "11          10             0     1    1             0             0   \n",
      "12           1             3     4    0             0             0   \n",
      "13          12             1     2    1             0             0   \n",
      "14           3             0     1    1             0             0   \n",
      "15          14             0     0    1             0             0   \n",
      "16           5             3     4    1             0             0   \n",
      "17           7             4     4    1             0             0   \n",
      "18          12             0     4    1             0             0   \n",
      "19           4             4     4    0             0             0   \n",
      "\n",
      "    hours-per-week  native-country  50k-Prediction  \n",
      "0               40              39               0  \n",
      "1               13              39               0  \n",
      "2               40              39               0  \n",
      "3               40              39               0  \n",
      "4               40               5               0  \n",
      "5               40              39               0  \n",
      "6               16              23               0  \n",
      "7               45              39               1  \n",
      "8               50              39               1  \n",
      "9               40              39               1  \n",
      "10              80              39               1  \n",
      "11              40              19               1  \n",
      "12              30              39               0  \n",
      "13              50              39               0  \n",
      "14              40               0               1  \n",
      "15              45              26               0  \n",
      "16              35              39               0  \n",
      "17              40              39               0  \n",
      "18              50              39               0  \n",
      "19              45              39               1  \n",
      "<class 'pandas.core.frame.DataFrame'>\n",
      "<class 'numpy.ndarray'>\n",
      "<class 'pandas.core.frame.DataFrame'>\n"
     ]
    }
   ],
   "source": [
    "# Data preprocessing\n",
    "\n",
    "# Remove duplicate data rows\n",
    "df.drop_duplicates()\n",
    "\n",
    "# Label Encoder is used to take all of our string data and asssign it a unique integer value\n",
    "le = LabelEncoder()\n",
    "\n",
    "# Using .fit_transform function to fit label\n",
    "# encoder and return encoded label\n",
    "# example, male/female will be turned into 0 and 1 for knn to calculate distance from\n",
    "df['workclass'] = le.fit_transform(df['workclass'])\n",
    "df['education'] = le.fit_transform(df['education'])\n",
    "df['marital-status'] = le.fit_transform(df['marital-status'])\n",
    "df['occupation'] = le.fit_transform(df['occupation'])\n",
    "df['relationship'] = le.fit_transform(df['relationship'])\n",
    "df['race'] = le.fit_transform(df['race'])\n",
    "df['sex'] = le.fit_transform(df['sex'])\n",
    "df['native-country'] = le.fit_transform(df['native-country'])\n",
    "df['50k-Prediction'] = le.fit_transform(df['50k-Prediction'])  # Under 50k = 0, Over 50k = 1\n",
    "\n",
    "# Print out the top 20 instances from the dataframe to show how LabelEncoder changed our data\n",
    "print(df.head(20))\n",
    "\n",
    "# Uncomment the .iloc[] lines if the program is running too slow. Will reduce dataset by 2/3.\n",
    "x = df.drop('50k-Prediction', axis=1)   # all columns except 50k Prediction column (or classifier)\n",
    "x10000 = x.iloc[:10000,].values              # Set sample amount to first 10000 rows\n",
    "\n",
    "y = df['50k-Prediction']                # only the 50k Prediction column (or classifier),\n",
    "y10000 = y.iloc[:10000,].values              # Set sample amount to first 10000 rows\n",
    "\n",
    "# Need to normalize our data so 0/1 values are weighted the same as 0-50 values\n",
    "# Dont need to normalize our y data because it is only 0s and 1s.\n",
    "print(type(x))\n",
    "x = preprocessing.scale(x)\n",
    "print(type(x))\n",
    "x = pd.DataFrame(x)\n",
    "print(type(x))\n",
    "x10000 = preprocessing.scale(x10000)"
   ],
   "metadata": {
    "collapsed": false,
    "pycharm": {
     "name": "#%%\n"
    }
   }
  },
  {
   "cell_type": "code",
   "execution_count": 6,
   "outputs": [
    {
     "data": {
      "text/plain": "<Figure size 432x288 with 1 Axes>",
      "image/png": "[encoded data removed]"
     },
     "metadata": {
      "needs_background": "light"
     },
     "output_type": "display_data"
    },
    {
     "name": "stdout",
     "output_type": "stream",
     "text": [
      "Lowest Error is with n neighbor value: 9\n"
     ]
    }
   ],
   "source": [
    "# Because KNN is a supervised classifier, split dataset into training set and test set\n",
    "# The X_train and y_train variables will be the 70% of the data, while X_test and y_test will be the 30%.\n",
    "# X_train and y_train will create the model, then X_test will be plugged into the model which will produce the prediction for y_test values.\n",
    "# Then we will compare the y_prediction values to the y_test values to determine the accuracy.\n",
    "# We use x10000 and y10000 becuase these variables will be used 30 times to calculate the optimal neighbor value, hence we need a smaller training set so it can runn efficiently\n",
    "X_train, X_test, y_train, y_test = train_test_split(x10000, y10000, test_size=0.3,random_state=1234)  # 70% training and 30% test\n",
    "\n",
    "\n",
    "# Determine the optimal amount of clusters using Error graph\n",
    "# The biggest bend in the elbow determines which number of neighbors creates greatest difference in error reduction\n",
    "Error = []  # will keep track of Error percentage for each n value\n",
    "for n in range(1,31):  # calculate 30 different error values\n",
    "    knnData = KNeighborsClassifier(n_neighbors=n)  # Uses KNeighborsClassifier to\n",
    "    knnData = knnData.fit(X_train,y_train)  # Use train data to create a model\n",
    "    y_pred = knnData.predict(X_test)  # Predict the y values with x_test values\n",
    "    Error.append(1-accuracy_score(y_test,y_pred))  # Compare the y_pred values to the y_test actual values to find Error\n",
    "\n",
    "plt.plot(range(1,31),Error, marker='o') # Plot the 30 different error calculations\n",
    "plt.title(\"Using KNeighborsClassifier with neighbor values 1-31\")\n",
    "plt.xlabel(\"Number of neighbors\")\n",
    "plt.ylabel(\"Error\")\n",
    "plt.show()\n",
    "\n",
    "# will print the index/n_neighbor value where the error is the lowest. Each time the data is randomly selected, so it will change each time it is run\n",
    "best_n = Error.index(min(Error))+1\n",
    "print(f\"Lowest Error is with n neighbor value: {best_n}\")"
   ],
   "metadata": {
    "collapsed": false,
    "pycharm": {
     "name": "#%%\n"
    }
   }
  },
  {
   "cell_type": "code",
   "execution_count": 7,
   "outputs": [
    {
     "name": "stdout",
     "output_type": "stream",
     "text": [
      "Length of x data = 32561\n",
      "Length of y data = 32561\n",
      "accuracy of each fold - [0.8274220789190849, 0.8329238329238329, 0.8361486486486487, 0.8381449631449631, 0.8356879606879607]\n",
      "Avg accuracy : 0.8340654968648981\n"
     ]
    }
   ],
   "source": [
    "# Main KNN Calculation:\n",
    "\n",
    "# Show that x and y are full data set -> 32k instances\n",
    "print(f\"Length of x data = {len(x)}\")\n",
    "print(f\"Length of y data = {len(y)}\")\n",
    "\n",
    "# Using Kfolding to create a better estimate by averaging 5 testing and training sets\n",
    "k = 5  # Do 5 folds, and split the set into 80/20\n",
    "kfold = KFold(n_splits=k, random_state=1234, shuffle=True)\n",
    "knnclassifier = KNeighborsClassifier(n_neighbors=best_n) # Note the use of best_n\n",
    "\n",
    "acc_score = []\n",
    "\n",
    "# For loop that will calculate the KNeighbors Classifier 5 times using 5 different folds of the training and testing\n",
    "# data, then average the results.\n",
    "for train_index, test_index in kfold.split(x):\n",
    "     x_train, x_test = x.iloc[train_index,:], x.iloc[test_index,:]\n",
    "     y_train, y_test = y[train_index], y[test_index]\n",
    "\n",
    "     knnclassifier.fit(x_train,y_train)\n",
    "     y_pred = knnclassifier.predict(x_test)\n",
    "\n",
    "     acc = accuracy_score(y_pred, y_test)\n",
    "     acc_score.append(acc)\n",
    "\n",
    "avg_acc_score = sum(acc_score)/k\n",
    "\n",
    "print('accuracy of each fold - {}'.format(acc_score))\n",
    "print('Avg accuracy : {}'.format(avg_acc_score))"
   ],
   "metadata": {
    "collapsed": false,
    "pycharm": {
     "name": "#%%\n"
    }
   }
  },
  {
   "cell_type": "code",
   "execution_count": 8,
   "outputs": [
    {
     "name": "stdout",
     "output_type": "stream",
     "text": [
      "[[4553  432]\n",
      " [ 638  889]]\n",
      "6922 true positives\n",
      "1158 true negatives\n",
      "547 false negatives\n",
      "1142 false positives\n",
      "              precision    recall  f1-score   support\n",
      "\n",
      "           0       0.88      0.91      0.89      4985\n",
      "           1       0.67      0.58      0.62      1527\n",
      "\n",
      "    accuracy                           0.84      6512\n",
      "   macro avg       0.78      0.75      0.76      6512\n",
      "weighted avg       0.83      0.84      0.83      6512\n",
      "\n"
     ]
    }
   ],
   "source": [
    "# Create a confusion matrix of the y_test values(correct answers) to the y_pred values(predicted values)\n",
    "confusion = confusion_matrix(y_test, y_pred)\n",
    "print(confusion)\n",
    "# Results from confusion matrix:\n",
    "print(\"6922 true positives\")\n",
    "print(\"1158 true negatives\")\n",
    "print(\"547 false negatives\")\n",
    "print(\"1142 false positives\")\n",
    "\n",
    "\n",
    "# Precision-> True Positives / (True Positives + False Positives)\n",
    "# How correct was the prediction?\n",
    "# 88% salary under 50k\n",
    "# 67% salary over 50k\n",
    "# Averaging the two, the chance to identify is 78%, with a weighted 83% chance\n",
    "\n",
    "# Recall-> True Positives / (True Positives + False Negatives)\n",
    "# A measure of the models completeness. How many positive cases were found?\n",
    "# 91% of cases were found if salary is less than 50k\n",
    "# 58% of cases were found if salary is over 50k\n",
    "# 75% average cases found with a weighted 84% rate\n",
    "\n",
    "# f1-score- F1 Score = 2*(Recall * Precision) / (Recall + Precision)\n",
    "# What percent of positive predictions were correct?\n",
    "# 89% for salary <50k\n",
    "# 62% for salary > 50k\n",
    "# Accuracy of 84% to determine if a person has a salary over/under 50k\n",
    "\n",
    "print(classification_report(y_test,y_pred))\n",
    "\n",
    "#Resources Used\n",
    "# https://muthu.co/understanding-the-classification-report-in-sklearn/\n",
    "# https://scikit-learn.org/stable/modules/generated/sklearn.neighbors.KNeighborsClassifier.html\n"
   ],
   "metadata": {
    "collapsed": false,
    "pycharm": {
     "name": "#%%\n"
    }
   }
  }
 ],
 "metadata": {
  "kernelspec": {
   "display_name": "Python 3",
   "language": "python",
   "name": "python3"
  },
  "language_info": {
   "codemirror_mode": {
    "name": "ipython",
    "version": 2
   },
   "file_extension": ".py",
   "mimetype": "text/x-python",
   "name": "python",
   "nbconvert_exporter": "python",
   "pygments_lexer": "ipython2",
   "version": "2.7.6"
  }
 },
 "nbformat": 4,
 "nbformat_minor": 0
}