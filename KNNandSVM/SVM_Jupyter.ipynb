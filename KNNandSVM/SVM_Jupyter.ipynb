{
 "cells": [
  {
   "cell_type": "code",
   "execution_count": null,
   "metadata": {
    "collapsed": true
   },
   "outputs": [],
   "source": [
    "# Load the appropriate software packages.\n",
    "import numpy as np\n",
    "import matplotlib.pyplot as plt\n",
    "import pandas as pd\n",
    "from sklearn.datasets import make_circles\n",
    "from sklearn.model_selection import train_test_split\n",
    "from sklearn.model_selection import KFold\n",
    "from sklearn.preprocessing import LabelEncoder\n",
    "from sklearn import preprocessing\n",
    "from sklearn.svm import SVC\n",
    "from sklearn.metrics import classification_report, confusion_matrix\n",
    "from sklearn.metrics import accuracy_score"
   ]
  },
  {
   "cell_type": "code",
   "execution_count": null,
   "outputs": [],
   "source": [
    "# Import the data\n",
    "colnames = ['age', 'workclass', 'fnlwgt', 'education', 'education-num', 'marital-status', 'occupation', 'relationship', 'race', 'sex', 'capital-gain', 'capital-loss', 'hours-per-week', 'native-country', '50k-Prediction']\n",
    "df = pd.read_csv(\"adult.data\", names=colnames)\n",
    "\n",
    "## Explore the data\n",
    "print(df.head(20))"
   ],
   "metadata": {
    "collapsed": false,
    "pycharm": {
     "name": "#%%\n"
    }
   }
  },
  {
   "cell_type": "code",
   "execution_count": null,
   "outputs": [],
   "source": [
    "# Data preprocessing\n",
    "## Define each column as numerical or categorical\n",
    "#df['age'] = df['age'].astype('float64')\n",
    "#df['workclass'] = df['workclass'].astype('category')\n",
    "#df['fnlwgt'] = df['fnlwgt'].astype('float64')\n",
    "#df['education'] = df['education'].astype('category')\n",
    "#df['education-num'] = df['education-num'].astype('float64')\n",
    "#df['marital-status'] = df['marital-status'].astype('category')\n",
    "#df['occupation'] = df['occupation'].astype('category')\n",
    "#df['relationship'] = df['relationship'].astype('category')\n",
    "#df['race'] = df['race'].astype('category')\n",
    "#df['sex'] = df['sex'].astype('category')\n",
    "#df['capital-gain'] = df['capital-gain'].astype('float64')\n",
    "#df['capital-loss'] = df['capital-loss'].astype('float64')\n",
    "#df['hours-per-week'] = df['hours-per-week'].astype('float64')\n",
    "#df['native-country'] = df['native-country'].astype('category')\n",
    "\n",
    "## Step 1: Remove unnecessary variables\n",
    "\n",
    "\n",
    "## Step 2: Remove duplicate data rows\n",
    "df.drop_duplicates()\n",
    "\n",
    "## Step 3: Convert categorical variables into numerical data using a simple label encoder\n",
    "le = LabelEncoder()\n",
    "\n",
    "### Use the .fit_transform() function to fit each column into a numerical value\n",
    "df['workclass'] = le.fit_transform(df['workclass'])\n",
    "df['education'] = le.fit_transform(df['education'])\n",
    "df['marital-status'] = le.fit_transform(df['marital-status'])\n",
    "df['occupation'] = le.fit_transform(df['occupation'])\n",
    "df['relationship'] = le.fit_transform(df['relationship'])\n",
    "df['race'] = le.fit_transform(df['race'])\n",
    "df['sex'] = le.fit_transform(df['sex'])\n",
    "df['native-country'] = le.fit_transform(df['native-country'])\n",
    "df['50k-Prediction'] = le.fit_transform(df['50k-Prediction'])\n",
    "\n",
    "## Step 4: Remove outliers\n",
    "# TK\n",
    "\n",
    "## Step 5: Print the updated data with data cleaning\n",
    "print(df.head(20))\n",
    "\n",
    "## Subset the data into x and y and lower sample amount\n",
    "#x = df.drop('50k-Prediction', axis=1) # all columns except 50k Prediction column (or classifier)\n",
    "#x = x.iloc[:1000,].values  # Set sample amount to first 1000 rows\n",
    "#y = df['50k-Prediction'].iloc[:1000,].values # only the 50k Prediction column (or classifier), Set sample amount to first 1000 rows\n",
    "\n",
    "x = df.iloc[:10000,:-1]\n",
    "y = df.iloc[:10000,-1]\n",
    "\n",
    "# Data Normalization\n",
    "x = preprocessing.scale(x)\n",
    "x = pd.DataFrame(x)"
   ],
   "metadata": {
    "collapsed": false,
    "pycharm": {
     "name": "#%%\n"
    }
   }
  },
  {
   "cell_type": "code",
   "execution_count": null,
   "outputs": [],
   "source": [],
   "metadata": {
    "collapsed": false,
    "pycharm": {
     "name": "#%%\n"
    }
   }
  }
 ],
 "metadata": {
  "kernelspec": {
   "display_name": "Python 3",
   "language": "python",
   "name": "python3"
  },
  "language_info": {
   "codemirror_mode": {
    "name": "ipython",
    "version": 2
   },
   "file_extension": ".py",
   "mimetype": "text/x-python",
   "name": "python",
   "nbconvert_exporter": "python",
   "pygments_lexer": "ipython2",
   "version": "2.7.6"
  }
 },
 "nbformat": 4,
 "nbformat_minor": 0
}