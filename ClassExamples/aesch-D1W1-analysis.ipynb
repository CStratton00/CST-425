{
 "cells": [
  {
   "cell_type": "code",
   "execution_count": 2,
   "metadata": {
    "collapsed": true
   },
   "outputs": [
    {
     "name": "stdout",
     "output_type": "stream",
     "text": [
      "Data Set: [3, 14, 18, 18, 15, 16, 17, 16, 11, 12, 18, 19, 18, 14, 15]\n",
      "Mean: 14.933333333333334\n",
      "Mode: 18\n",
      "Standard Deviation: 4.043807729403186\n",
      "Interquartile Range: 4.0\n"
     ]
    },
    {
     "data": {
      "text/plain": "<Figure size 432x288 with 1 Axes>",
      "image/png": "[encoded data removed]"
     },
     "metadata": {
      "needs_background": "light"
     },
     "output_type": "display_data"
    }
   ],
   "source": [
    "import statistics\n",
    "import numpy as np\n",
    "import matplotlib.pyplot as matplot\n",
    "import random\n",
    "\n",
    "# Generate Data Set\n",
    "nums = [random.randint(x,20) for x in range(15)]\n",
    "\n",
    "# Find mean, mode, and standard deviation using statistics library\n",
    "mean = statistics.mean(nums)\n",
    "mode = statistics.mode(nums)\n",
    "stdev = statistics.stdev(nums)\n",
    "\n",
    "# Find interquartile range using numpy\n",
    "q1 = np.percentile(nums,25)\n",
    "q3 = np.percentile(nums,75)\n",
    "iqr = q3-q1\n",
    "\n",
    "# Print data results\n",
    "print(f\"Data Set: {nums}\")\n",
    "print(f\"Mean: {mean}\")\n",
    "print(f\"Mode: {mode}\")\n",
    "print(f\"Standard Deviation: {stdev}\")\n",
    "print(f\"Interquartile Range: {iqr}\")\n",
    "\n",
    "# Generate Scatterplot\n",
    "matplot.scatter(range(15), nums)\n",
    "\n",
    "# Display Scatterplot\n",
    "matplot.show()"
   ]
  },
  {
   "cell_type": "code",
   "execution_count": null,
   "outputs": [],
   "source": [],
   "metadata": {
    "collapsed": false,
    "pycharm": {
     "name": "#%%\n"
    }
   }
  }
 ],
 "metadata": {
  "kernelspec": {
   "display_name": "Python 3",
   "language": "python",
   "name": "python3"
  },
  "language_info": {
   "codemirror_mode": {
    "name": "ipython",
    "version": 2
   },
   "file_extension": ".py",
   "mimetype": "text/x-python",
   "name": "python",
   "nbconvert_exporter": "python",
   "pygments_lexer": "ipython2",
   "version": "2.7.6"
  }
 },
 "nbformat": 4,
 "nbformat_minor": 0
}