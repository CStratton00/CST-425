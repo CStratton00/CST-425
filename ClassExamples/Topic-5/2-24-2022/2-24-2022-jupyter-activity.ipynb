{
 "cells": [
  {
   "cell_type": "code",
   "execution_count": 1,
   "metadata": {
    "collapsed": true,
    "pycharm": {
     "name": "#%%\n"
    }
   },
   "outputs": [
    {
     "name": "stdout",
     "output_type": "stream",
     "text": [
      "without GPU: 32.130691299999995\n",
      "with GPU: 2.8513996000000077\n"
     ]
    }
   ],
   "source": [
    "from numba import jit, cuda\n",
    "import numpy as np\n",
    "# to measure exec time\n",
    "from timeit import default_timer as timer\n",
    "\n",
    "\n",
    "# normal function to run on cpu\n",
    "def func(a):\n",
    "    for i in range(10000000):\n",
    "        a[i] += 1\n",
    "\n",
    "    # function optimized to run on gpu\n",
    "\n",
    "\n",
    "@jit(target_backend=\"cuda\")\n",
    "def func2(a):\n",
    "    for i in range(10000000):\n",
    "        a[i] += 1\n",
    "\n",
    "\n",
    "if __name__ == \"__main__\":\n",
    "    n = 10000000\n",
    "    a = np.ones(n, dtype=np.float64)\n",
    "    b = np.ones(n, dtype=np.float32)\n",
    "\n",
    "    start = timer()\n",
    "    func(a)\n",
    "    print(\"without GPU:\", timer() - start)\n",
    "\n",
    "    start = timer()\n",
    "    func2(a)\n",
    "    print(\"with GPU:\", timer() - start)"
   ]
  }
 ],
 "metadata": {
  "kernelspec": {
   "display_name": "Python 3",
   "language": "python",
   "name": "python3"
  },
  "language_info": {
   "codemirror_mode": {
    "name": "ipython",
    "version": 2
   },
   "file_extension": ".py",
   "mimetype": "text/x-python",
   "name": "python",
   "nbconvert_exporter": "python",
   "pygments_lexer": "ipython2",
   "version": "2.7.6"
  }
 },
 "nbformat": 4,
 "nbformat_minor": 0
}